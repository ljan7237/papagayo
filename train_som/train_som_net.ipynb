{
 "cells": [
  {
   "cell_type": "code",
   "execution_count": null,
   "metadata": {
    "colab": {
     "base_uri": "https://localhost:8080/"
    },
    "executionInfo": {
     "elapsed": 27129,
     "status": "ok",
     "timestamp": 1740382544372,
     "user": {
      "displayName": "Louis Janse van Rensburg",
      "userId": "17606134187402939115"
     },
     "user_tz": -600
    },
    "id": "Tr7PNKeV-uFC",
    "outputId": "e9a8d0d9-8872-43dd-e6ea-149b9268804c"
   },
   "outputs": [],
   "source": [
    "# Colab Notebook\n",
    "# mount drive\n",
    "from google.colab import drive\n",
    "drive.mount('/content/drive')"
   ]
  },
  {
   "cell_type": "code",
   "execution_count": null,
   "metadata": {
    "colab": {
     "base_uri": "https://localhost:8080/"
    },
    "executionInfo": {
     "elapsed": 54358,
     "status": "ok",
     "timestamp": 1740382598733,
     "user": {
      "displayName": "Louis Janse van Rensburg",
      "userId": "17606134187402939115"
     },
     "user_tz": -600
    },
    "id": "VlJexKL__irf",
    "outputId": "cf06c1cd-d692-472d-9e16-202f1389645b"
   },
   "outputs": [],
   "source": [
    "# install reqs\n",
    "! pip install simpsom\n",
    "! pip install -q cudf-cu12 cuml-cu12 --extra-index-url=https://pypi.nvidia.com"
   ]
  },
  {
   "cell_type": "code",
   "execution_count": null,
   "metadata": {
    "executionInfo": {
     "elapsed": 16915,
     "status": "ok",
     "timestamp": 1740369607771,
     "user": {
      "displayName": "Louis Janse van Rensburg",
      "userId": "17606134187402939115"
     },
     "user_tz": -600
    },
    "id": "sv1dc4bL_iF3"
   },
   "outputs": [],
   "source": [
    "# load data\n",
    "import numpy as np\n",
    "\n",
    "#butcherbirds = np.load(\"/content/drive/MyDrive/papagayo/training_data/final_dataset_butcherbird.npy\",mmap_mode='r').astype(np.float32)\n",
    "#superb_lyrebirds = np.load(\"/content/drive/MyDrive/papagayo/training_data/final_dataset_superb_lyrebird.npy\").astype(np.float32)\n",
    "noisy_friarbirds = np.load(\"/content/drive/MyDrive/papagayo/training_data/final_dataset_noisy_friarbird.npy\").astype(np.float32)\n",
    "#lorikeets = np.load(\"/content/drive/MyDrive/papagayo/training_data/final_dataset_lorikeet.npy\").astype(np.float32)\n",
    "#kookaburras = np.load(\"/content/drive/MyDrive/papagayo/training_data/final_dataset_kookaburra.npy\").astype(np.float32)\n",
    "#magpies = np.load(\"/content/drive/MyDrive/papagayo/training_data/final_dataset_magpie.npy\").astype(np.float32)\n",
    "#australian_birds = np.load(\"/content/drive/MyDrive/papagayo/training_data/final_dataset_australian_birds.npy\").astype(np.float32)\n"
   ]
  },
  {
   "cell_type": "code",
   "execution_count": null,
   "metadata": {
    "colab": {
     "base_uri": "https://localhost:8080/"
    },
    "executionInfo": {
     "elapsed": 2695414,
     "status": "ok",
     "timestamp": 1740372313253,
     "user": {
      "displayName": "Louis Janse van Rensburg",
      "userId": "17606134187402939115"
     },
     "user_tz": -600
    },
    "id": "zIBzvH3rjs1P",
    "outputId": "c5ef2492-9e78-4643-bf17-a66cf4bc21be"
   },
   "outputs": [],
   "source": [
    "# Train the SOM using loaded data.\n",
    "import numpy as np\n",
    "from sklearn.preprocessing import MinMaxScaler\n",
    "import psutil\n",
    "import simpsom as sps\n",
    "import torch\n",
    "torch.cuda.empty_cache()\n",
    "data = noisy_friarbirds\n",
    "print(\"Data shape:\", data.shape)\n",
    "print(\"Data type:\", data.dtype)\n",
    "print(\"Memory required (GB):\", data.nbytes / 1e9)\n",
    "print(\"System RAM available (GB):\", psutil.virtual_memory().available / 1e9)\n",
    "\n",
    "\n",
    "scaler = MinMaxScaler()\n",
    "data = scaler.fit_transform(data)\n",
    "\n",
    "net = sps.SOMNet(8, 8, data, PBC=True, random_seed=32, GPU=True)\n",
    "NUM_EPOCHS = 200 # -1 for \"until convergence\"\n",
    "net.train(train_algo='batch', start_learning_rate=0.01, epochs=NUM_EPOCHS, batch_size=4096)\n",
    "net.save(fileName=f\"noisy_friarbirds_8x8_som_net_{NUM_EPOCHS}_epochs\",out_path=\"/content/drive/MyDrive/papagayo/som_nets/\")"
   ]
  },
  {
   "cell_type": "code",
   "execution_count": null,
   "metadata": {
    "colab": {
     "base_uri": "https://localhost:8080/"
    },
    "executionInfo": {
     "elapsed": 8590971,
     "status": "ok",
     "timestamp": 1740391323155,
     "user": {
      "displayName": "Louis Janse van Rensburg",
      "userId": "17606134187402939115"
     },
     "user_tz": -600
    },
    "id": "EMgzIZKgXNOV",
    "outputId": "edc295a4-f454-4883-bccc-7f308cc59a6c"
   },
   "outputs": [],
   "source": [
    "# For training an upsampling CNN\n",
    "import numpy as np\n",
    "import torch\n",
    "import torch.nn as nn\n",
    "import torch.optim as optim\n",
    "from sklearn.model_selection import train_test_split\n",
    "from torch.utils.data import DataLoader, TensorDataset\n",
    "\n",
    "# Load the data from the .npy files\n",
    "A = np.load(\"/content/drive/MyDrive/papagayo/upsampling/butcherbird_embeddings.npy\").astype(np.float32)  # Shape (N, 8, 8)\n",
    "B = np.load(\"/content/drive/MyDrive/papagayo/training_data/final_dataset_butcherbird.npy\").astype(np.float32)  # Shape (N, 2049)\n",
    "\n",
    "print(A.shape, B.shape)\n",
    "# Convert to torch tensors\n",
    "X = torch.tensor(A, dtype=torch.float32).unsqueeze(1)  # Adding channel dimension (N, 1, 8, 8)\n",
    "y = torch.tensor(B, dtype=torch.float32)\n",
    "\n",
    "# Split data into training and validation sets\n",
    "X_train, X_val, y_train, y_val = train_test_split(X, y, test_size=0.2, random_state=42)\n",
    "\n",
    "# Create DataLoader for batching during training\n",
    "train_data = TensorDataset(X_train, y_train)\n",
    "val_data = TensorDataset(X_val, y_val)\n",
    "\n",
    "train_loader = DataLoader(train_data, batch_size=32, shuffle=True)\n",
    "val_loader = DataLoader(val_data, batch_size=32, shuffle=False)\n",
    "\n",
    "# Check if GPU is available and set the device\n",
    "device = torch.device(\"cuda\" if torch.cuda.is_available() else \"cpu\")\n",
    "print(f\"Using device: {device}\")\n",
    "\n",
    "# Define a CNN model\n",
    "class PredictionCNN(nn.Module):\n",
    "    def __init__(self):\n",
    "        super(PredictionCNN, self).__init__()\n",
    "\n",
    "        # Convolutional layers\n",
    "        self.conv1 = nn.Conv2d(1, 16, kernel_size=3, padding=1)  # (1, 8, 8) -> (16, 8, 8)\n",
    "        self.conv2 = nn.Conv2d(16, 32, kernel_size=3, padding=1) # (16, 8, 8) -> (32, 8, 8)\n",
    "\n",
    "        # Fully connected layers\n",
    "        self.fc1 = nn.Linear(32 * 8 * 8, 256)  # 32 channels * 8 * 8 grid\n",
    "        self.fc2 = nn.Linear(256, 2049)  # Output size is 2049\n",
    "\n",
    "    def forward(self, x):\n",
    "        # Apply convolutions with ReLU activations\n",
    "        x = torch.relu(self.conv1(x))\n",
    "        x = torch.relu(self.conv2(x))\n",
    "\n",
    "        # Flatten the output of convolution layers\n",
    "        x = x.view(x.size(0), -1)  # Flatten (N, 32, 8, 8) -> (N, 32*8*8)\n",
    "\n",
    "        # Fully connected layers\n",
    "        x = torch.relu(self.fc1(x))\n",
    "        x = self.fc2(x)\n",
    "\n",
    "        return x\n",
    "\n",
    "# Instantiate the CNN model and move it to the device (GPU or CPU)\n",
    "model = PredictionCNN().to(device)\n",
    "\n",
    "# Define the loss function and optimizer\n",
    "criterion = nn.MSELoss()  # Mean Squared Error for regression\n",
    "optimizer = optim.Adam(model.parameters(), lr=0.001)\n",
    "\n",
    "# Train the model\n",
    "epochs = 200\n",
    "for epoch in range(epochs):\n",
    "    model.train()\n",
    "    running_loss = 0.0\n",
    "    for inputs, targets in train_loader:\n",
    "        inputs, targets = inputs.to(device), targets.to(device)  # Move data to GPU\n",
    "\n",
    "        optimizer.zero_grad()\n",
    "\n",
    "        # Forward pass\n",
    "        outputs = model(inputs)\n",
    "\n",
    "        # Compute loss\n",
    "        loss = criterion(outputs, targets)\n",
    "\n",
    "        # Backward pass\n",
    "        loss.backward()\n",
    "        optimizer.step()\n",
    "\n",
    "        running_loss += loss.item()\n",
    "\n",
    "    # Print training progress\n",
    "    print(f\"Epoch [{epoch+1}/{epochs}], Loss: {running_loss / len(train_loader)}\")\n",
    "\n",
    "    # Validation phase\n",
    "    model.eval()\n",
    "    with torch.no_grad():\n",
    "        val_loss = 0.0\n",
    "        for inputs, targets in val_loader:\n",
    "            inputs, targets = inputs.to(device), targets.to(device)  # Move data to GPU\n",
    "            outputs = model(inputs)\n",
    "            loss = criterion(outputs, targets)\n",
    "            val_loss += loss.item()\n",
    "\n",
    "        print(f\"Validation Loss: {val_loss / len(val_loader)}\")\n",
    "\n",
    "# Save the trained model\n",
    "torch.save(model.state_dict(), \"/content/drive/MyDrive/papagayo/upsampling/prediction_cnn_model_butcherbirds.pth\")"
   ]
  },
  {
   "cell_type": "markdown",
   "metadata": {
    "id": "aT81181tEksr"
   },
   "source": []
  }
 ],
 "metadata": {
  "accelerator": "GPU",
  "colab": {
   "authorship_tag": "ABX9TyPiolyuDQCu40BnFbQ/9+1K",
   "gpuType": "A100",
   "provenance": []
  },
  "kernelspec": {
   "display_name": "Python 3",
   "name": "python3"
  },
  "language_info": {
   "name": "python"
  }
 },
 "nbformat": 4,
 "nbformat_minor": 0
}
